{
 "cells": [
  {
   "cell_type": "code",
   "execution_count": 22,
   "metadata": {},
   "outputs": [],
   "source": [
    "from selenium import webdriver\n",
    "from selenium.webdriver.common.keys import Keys\n",
    "from selenium.webdriver.chrome.service import Service"
   ]
  },
  {
   "cell_type": "code",
   "execution_count": 23,
   "metadata": {},
   "outputs": [],
   "source": [
    "service = webdriver.ChromeService(executable_path=\"D:\\\\Downloads\\\\chromedriver-win64\\\\chromedriver-win64\\\\chromedriver.exe\")\n",
    "driver = webdriver.Chrome(service=service)\n",
    "driver.implicitly_wait(30)\n",
    "driver.maximize_window()"
   ]
  },
  {
   "cell_type": "code",
   "execution_count": 44,
   "metadata": {},
   "outputs": [],
   "source": [
    "web_url = \"https://84000.org/\"\n",
    "driver.get(web_url)"
   ]
  },
  {
   "cell_type": "code",
   "execution_count": 25,
   "metadata": {},
   "outputs": [],
   "source": [
    "from bs4 import BeautifulSoup\n",
    "\n",
    "soup = BeautifulSoup(driver.page_source, 'html.parser')"
   ]
  },
  {
   "cell_type": "code",
   "execution_count": 40,
   "metadata": {},
   "outputs": [],
   "source": [
    "def has_title(tag):\n",
    "    return tag.has_attr('title')"
   ]
  },
  {
   "cell_type": "code",
   "execution_count": 45,
   "metadata": {},
   "outputs": [
    {
     "name": "stdout",
     "output_type": "stream",
     "text": [
      "https://84000.org/./tipitaka/read/?index_1\n",
      "https://84000.org/./tipitaka/read/?index_2\n",
      "https://84000.org/./tipitaka/read/?index_3\n",
      "https://84000.org/./tipitaka/read/?index_4\n",
      "https://84000.org/./tipitaka/read/?index_5\n",
      "https://84000.org/./tipitaka/read/?index_6\n",
      "https://84000.org/./tipitaka/read/?index_7\n",
      "https://84000.org/./tipitaka/read/?index_8\n",
      "https://84000.org/./tipitaka/read/?index_9\n",
      "https://84000.org/./tipitaka/read/?index_10\n",
      "https://84000.org/./tipitaka/read/?index_11\n",
      "https://84000.org/./tipitaka/read/?index_12\n",
      "https://84000.org/./tipitaka/read/?index_13\n",
      "https://84000.org/./tipitaka/read/?index_14\n",
      "https://84000.org/./tipitaka/read/?index_15\n",
      "https://84000.org/./tipitaka/read/?index_16\n",
      "https://84000.org/./tipitaka/read/?index_17\n",
      "https://84000.org/./tipitaka/read/?index_18\n",
      "https://84000.org/./tipitaka/read/?index_19\n",
      "https://84000.org/./tipitaka/read/?index_20\n",
      "https://84000.org/./tipitaka/read/?index_21\n",
      "https://84000.org/./tipitaka/read/?index_22\n",
      "https://84000.org/./tipitaka/read/?index_23\n",
      "https://84000.org/./tipitaka/read/?index_24\n",
      "https://84000.org/./tipitaka/read/?index_25\n",
      "https://84000.org/./tipitaka/read/?index_26\n",
      "https://84000.org/./tipitaka/read/?index_27\n",
      "https://84000.org/./tipitaka/read/?index_28\n",
      "https://84000.org/./tipitaka/read/?index_29\n",
      "https://84000.org/./tipitaka/read/?index_30\n",
      "https://84000.org/./tipitaka/read/?index_31\n",
      "https://84000.org/./tipitaka/read/?index_32\n",
      "https://84000.org/./tipitaka/read/?index_33\n",
      "https://84000.org/./tipitaka/read/?index_34\n",
      "https://84000.org/./tipitaka/read/?index_35\n",
      "https://84000.org/./tipitaka/read/?index_36\n",
      "https://84000.org/./tipitaka/read/?index_37\n",
      "https://84000.org/./tipitaka/read/?index_38\n",
      "https://84000.org/./tipitaka/read/?index_39\n",
      "https://84000.org/./tipitaka/read/?index_40\n",
      "https://84000.org/./tipitaka/read/?index_41\n",
      "https://84000.org/./tipitaka/read/?index_42\n",
      "https://84000.org/./tipitaka/read/?index_43\n",
      "https://84000.org/./tipitaka/read/?index_44\n",
      "https://84000.org/./tipitaka/read/?index_45\n",
      "https://84000.org/./tipitaka/pitaka3/definition.html\n",
      "https://84000.org/./tipitaka/pitaka1/definition1.html\n",
      "https://84000.org/./tipitaka/pitaka2/definition2.html\n",
      "https://84000.org/./tipitaka/pitaka3/definition3.html\n",
      "https://84000.org/#1\n",
      "https://84000.org/#2\n",
      "https://84000.org/#3\n",
      "https://84000.org/#1.1\n",
      "https://84000.org/#1.2\n",
      "https://84000.org/#1.3\n",
      "https://84000.org/#1.4\n",
      "https://84000.org/#1.5\n",
      "https://84000.org/#1.6\n",
      "https://84000.org/#1\n",
      "https://84000.org/#2\n",
      "https://84000.org/#3\n",
      "https://84000.org/#2.1\n",
      "https://84000.org/./tipitaka/attha/#หมายเหตุ\n",
      "https://84000.org/#2.2\n",
      "https://84000.org/#2.2.1\n",
      "https://84000.org/./tipitaka/attha/index25b.php\n",
      "https://84000.org/#2.2.2\n",
      "https://84000.org/./tipitaka/attha/index25b2.php\n",
      "https://84000.org/#2.2.3\n",
      "https://84000.org/#2.3\n",
      "https://84000.org/#2.3.1\n",
      "https://84000.org/#2.3.2\n",
      "https://84000.org/#2.4\n",
      "https://84000.org/#2.5\n",
      "https://84000.org/#2.6\n",
      "https://84000.org/#1\n",
      "https://84000.org/#2\n",
      "https://84000.org/#3\n",
      "https://84000.org/#3.1\n",
      "https://84000.org/#3.2\n",
      "https://84000.org/#3.3\n",
      "https://84000.org/tipitaka/\n",
      "https://84000.org/tipitaka/pitaka_item/\n",
      "https://84000.org/tipitaka/atita\n",
      "https://84000.org/tipitaka/picture/f00.html\n",
      "https://84000.org/tipitaka/dic/\n",
      "https://84000.org/one\n",
      "https://84000.org/anisong\n",
      "https://84000.org/tipitaka/atita\n",
      "https://84000.org/tipitaka/dic\n",
      "https://84000.org/anisong\n",
      "https://84000.org/one\n",
      "https://84000.org/true\n",
      "https://84000.org/anisong/13.html\n",
      "https://84000.org/anisong/39.html\n",
      "https://84000.org/one/1/03.html\n",
      "https://84000.org/one/2/12.html\n",
      "https://84000.org/one/3/02.html\n",
      "https://84000.org/one/4/04.html\n",
      "https://84000.org/http://www.larnbuddhism.com/tripitaka/interest/\n"
     ]
    }
   ],
   "source": [
    "# pitakas = soup.find_all('a')\n",
    "# pitakas\n",
    "for i in soup.find_all('a'):\n",
    "    if i.has_attr('href'):\n",
    "        print(web_url + i['href'])"
   ]
  }
 ],
 "metadata": {
  "language_info": {
   "name": "python"
  }
 },
 "nbformat": 4,
 "nbformat_minor": 2
}
